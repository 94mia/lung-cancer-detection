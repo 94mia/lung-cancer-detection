{
 "cells": [
  {
   "cell_type": "markdown",
   "metadata": {},
   "source": [
    "# 3D CNN for Lung Cancer Detection"
   ]
  },
  {
   "cell_type": "markdown",
   "metadata": {},
   "source": [
    "First import the libraries:"
   ]
  },
  {
   "cell_type": "code",
   "execution_count": 56,
   "metadata": {
    "collapsed": true
   },
   "outputs": [],
   "source": [
    "import tensorflow as tf\n",
    "import numpy as np\n",
    "import os\n",
    "from random import shuffle"
   ]
  },
  {
   "cell_type": "markdown",
   "metadata": {},
   "source": [
    "## Splitting training and validation set\n",
    "### One-hot encoding\n",
    "Performing one-hot encoding for labels (1D array):"
   ]
  },
  {
   "cell_type": "code",
   "execution_count": 63,
   "metadata": {
    "collapsed": false
   },
   "outputs": [
    {
     "name": "stdout",
     "output_type": "stream",
     "text": [
      "[[ 0.  1.]\n",
      " [ 1.  0.]\n",
      " [ 0.  1.]]\n"
     ]
    }
   ],
   "source": [
    "def one_hot_encode(labels):\n",
    "    one_hot = np.zeros((len(labels), 2))\n",
    "    one_hot[np.arange(len(labels)), labels] = 1\n",
    "    \n",
    "    return one_hot\n",
    "\n",
    "sample_labels = [1, 0, 1]\n",
    "one_hot_sample_labels = one_hot_encode(sample_labels)\n",
    "print(one_hot_sample_labels)"
   ]
  },
  {
   "cell_type": "markdown",
   "metadata": {},
   "source": [
    "### Saving and Loading Data"
   ]
  },
  {
   "cell_type": "code",
   "execution_count": null,
   "metadata": {
    "collapsed": false
   },
   "outputs": [],
   "source": [
    "preprocessed_data_folder = './sample_images_preprocessed/'\n",
    "train_valid_data_folder = './data/'\n",
    "\n",
    "patients = os.listdir(preprocessed_data_folder)\n",
    "shuffle(patients) # randomize the order of data\n",
    "\n",
    "# initialization\n",
    "train_features_batch = []; train_labels_batch = []\n",
    "valid_features_batch = []; valid_labels_batch = []\n",
    "\n",
    "train_size = 0.8 # relative size of train set\n",
    "batch_size = 5 # divide set into batches to prevent machine from running out of memory\n",
    "\n",
    "n_train = 0; n_train_batch = 0; n_valid = 0; n_valid_batch = 0\n",
    "data_shape = [250, 350, 350]\n",
    "\n",
    "train_batch_id = 0\n",
    "valid_batch_id = 0\n",
    "for i in range(len(patients)):  \n",
    "    if patients[i].startswith('.'): continue # ignore hidden files\n",
    "    patient_data = np.load(preprocessed_data_folder + patients[i])\n",
    "    if patient_data['set'] == 'test': continue # ignore test data\n",
    "    \n",
    "    if i < int(len(patients) * train_size): # train set\n",
    "        train_features_batch.append(patient_data['data'])\n",
    "        train_labels_batch.append(patient_data['label'])\n",
    "        n_train += 1\n",
    "        n_train_batch += 1\n",
    "        \n",
    "        #  if current train batch is full\n",
    "        if (n_train_batch == batch_size): \n",
    "            # save the current batch\n",
    "            np.savez_compressed(train_valid_data_folder + 'train_batch_' + str(train_batch_id),\n",
    "                               features = np.array(train_features_batch),\n",
    "                               labels = one_hot_encode(train_labels_batch))\n",
    "            # initialization\n",
    "            train_features_batch = []; train_labels_batch = []\n",
    "            train_batch_id += 1\n",
    "            n_train_batch = 0\n",
    "            \n",
    "    else: # validation set\n",
    "        valid_features_batch.append(patient_data['data'])\n",
    "        valid_labels_batch.append(patient_data['label'])\n",
    "        n_valid += 1\n",
    "        n_valid_batch += 1\n",
    "        \n",
    "        #  if current validation batch is full\n",
    "        if (n_valid_batch == batch_size): \n",
    "            # save the current batch\n",
    "            np.savez_compressed(train_valid_data_folder + 'valid_batch_' + str(valid_batch_id),\n",
    "                               features = np.array(valid_features_batch),\n",
    "                               labels = one_hot_encode(valid_labels_batch))\n",
    "            # initialization\n",
    "            valid_features_batch = []; valid_labels_batch = []\n",
    "            valid_batch_id += 1\n",
    "            n_valid_batch = 0\n",
    "\n",
    "# save the remaining training and validation data set\n",
    "if n_train_batch != 0:\n",
    "    np.savez_compressed(train_valid_data_folder + 'train_batch_' + str(train_batch_id),\n",
    "                        features = np.array(train_features_batch),\n",
    "                        labels = one_hot_encode(train_labels_batch)) \n",
    "else:\n",
    "    train_batch_id -= 1\n",
    "\n",
    "if n_valid_batch != 0:\n",
    "    np.savez_compressed(train_valid_data_folder + 'valid_batch_' + str(valid_batch_id),\n",
    "                        features = np.array(valid_features_batch),\n",
    "                        labels = one_hot_encode(valid_labels_batch)) \n",
    "else:\n",
    "    valid_batch_id -= 1\n",
    "\n",
    "print('Total data size: {:d}, Training data size: {:d}, Validation data size: {:d} '.format(\n",
    "    n_train + n_valid, n_train, n_valid))\n",
    "print('Number of train batches: {:d}, Number of validation batches: {:d}'.format(\n",
    "    train_batch_id+1, valid_batch_id+1))"
   ]
  },
  {
   "cell_type": "code",
   "execution_count": null,
   "metadata": {
    "collapsed": true
   },
   "outputs": [],
   "source": []
  }
 ],
 "metadata": {
  "kernelspec": {
   "display_name": "Python 3",
   "language": "python",
   "name": "python3"
  },
  "language_info": {
   "codemirror_mode": {
    "name": "ipython",
    "version": 3
   },
   "file_extension": ".py",
   "mimetype": "text/x-python",
   "name": "python",
   "nbconvert_exporter": "python",
   "pygments_lexer": "ipython3",
   "version": "3.6.0"
  }
 },
 "nbformat": 4,
 "nbformat_minor": 2
}
